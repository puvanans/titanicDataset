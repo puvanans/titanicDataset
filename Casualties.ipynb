{
 "cells": [
  {
   "cell_type": "code",
   "execution_count": null,
   "id": "43f82172-2429-4b6e-801c-a1b859017f45",
   "metadata": {},
   "outputs": [],
   "source": [
    "# In this file we will be studying the casualties. Specifically, the distribution of age among the casualties in the two genders."
   ]
  },
  {
   "cell_type": "code",
   "execution_count": 85,
   "id": "748acffc-90ca-4693-abd8-5001bd443a20",
   "metadata": {},
   "outputs": [
    {
     "data": {
      "text/html": [
       "<div>\n",
       "<style scoped>\n",
       "    .dataframe tbody tr th:only-of-type {\n",
       "        vertical-align: middle;\n",
       "    }\n",
       "\n",
       "    .dataframe tbody tr th {\n",
       "        vertical-align: top;\n",
       "    }\n",
       "\n",
       "    .dataframe thead th {\n",
       "        text-align: right;\n",
       "    }\n",
       "</style>\n",
       "<table border=\"1\" class=\"dataframe\">\n",
       "  <thead>\n",
       "    <tr style=\"text-align: right;\">\n",
       "      <th></th>\n",
       "      <th>PassengerId</th>\n",
       "      <th>Survived</th>\n",
       "      <th>Pclass</th>\n",
       "      <th>Name</th>\n",
       "      <th>Sex</th>\n",
       "      <th>Age</th>\n",
       "      <th>SibSp</th>\n",
       "      <th>Parch</th>\n",
       "      <th>Ticket</th>\n",
       "      <th>Fare</th>\n",
       "      <th>Cabin</th>\n",
       "      <th>Embarked</th>\n",
       "    </tr>\n",
       "  </thead>\n",
       "  <tbody>\n",
       "    <tr>\n",
       "      <th>0</th>\n",
       "      <td>1</td>\n",
       "      <td>0</td>\n",
       "      <td>3</td>\n",
       "      <td>Braund, Mr. Owen Harris</td>\n",
       "      <td>male</td>\n",
       "      <td>22.0</td>\n",
       "      <td>1</td>\n",
       "      <td>0</td>\n",
       "      <td>A/5 21171</td>\n",
       "      <td>7.2500</td>\n",
       "      <td>NaN</td>\n",
       "      <td>S</td>\n",
       "    </tr>\n",
       "    <tr>\n",
       "      <th>1</th>\n",
       "      <td>2</td>\n",
       "      <td>1</td>\n",
       "      <td>1</td>\n",
       "      <td>Cumings, Mrs. John Bradley (Florence Briggs Th...</td>\n",
       "      <td>female</td>\n",
       "      <td>38.0</td>\n",
       "      <td>1</td>\n",
       "      <td>0</td>\n",
       "      <td>PC 17599</td>\n",
       "      <td>71.2833</td>\n",
       "      <td>C85</td>\n",
       "      <td>C</td>\n",
       "    </tr>\n",
       "    <tr>\n",
       "      <th>2</th>\n",
       "      <td>3</td>\n",
       "      <td>1</td>\n",
       "      <td>3</td>\n",
       "      <td>Heikkinen, Miss. Laina</td>\n",
       "      <td>female</td>\n",
       "      <td>26.0</td>\n",
       "      <td>0</td>\n",
       "      <td>0</td>\n",
       "      <td>STON/O2. 3101282</td>\n",
       "      <td>7.9250</td>\n",
       "      <td>NaN</td>\n",
       "      <td>S</td>\n",
       "    </tr>\n",
       "    <tr>\n",
       "      <th>3</th>\n",
       "      <td>4</td>\n",
       "      <td>1</td>\n",
       "      <td>1</td>\n",
       "      <td>Futrelle, Mrs. Jacques Heath (Lily May Peel)</td>\n",
       "      <td>female</td>\n",
       "      <td>35.0</td>\n",
       "      <td>1</td>\n",
       "      <td>0</td>\n",
       "      <td>113803</td>\n",
       "      <td>53.1000</td>\n",
       "      <td>C123</td>\n",
       "      <td>S</td>\n",
       "    </tr>\n",
       "    <tr>\n",
       "      <th>4</th>\n",
       "      <td>5</td>\n",
       "      <td>0</td>\n",
       "      <td>3</td>\n",
       "      <td>Allen, Mr. William Henry</td>\n",
       "      <td>male</td>\n",
       "      <td>35.0</td>\n",
       "      <td>0</td>\n",
       "      <td>0</td>\n",
       "      <td>373450</td>\n",
       "      <td>8.0500</td>\n",
       "      <td>NaN</td>\n",
       "      <td>S</td>\n",
       "    </tr>\n",
       "  </tbody>\n",
       "</table>\n",
       "</div>"
      ],
      "text/plain": [
       "   PassengerId  Survived  Pclass  \\\n",
       "0            1         0       3   \n",
       "1            2         1       1   \n",
       "2            3         1       3   \n",
       "3            4         1       1   \n",
       "4            5         0       3   \n",
       "\n",
       "                                                Name     Sex   Age  SibSp  \\\n",
       "0                            Braund, Mr. Owen Harris    male  22.0      1   \n",
       "1  Cumings, Mrs. John Bradley (Florence Briggs Th...  female  38.0      1   \n",
       "2                             Heikkinen, Miss. Laina  female  26.0      0   \n",
       "3       Futrelle, Mrs. Jacques Heath (Lily May Peel)  female  35.0      1   \n",
       "4                           Allen, Mr. William Henry    male  35.0      0   \n",
       "\n",
       "   Parch            Ticket     Fare Cabin Embarked  \n",
       "0      0         A/5 21171   7.2500   NaN        S  \n",
       "1      0          PC 17599  71.2833   C85        C  \n",
       "2      0  STON/O2. 3101282   7.9250   NaN        S  \n",
       "3      0            113803  53.1000  C123        S  \n",
       "4      0            373450   8.0500   NaN        S  "
      ]
     },
     "execution_count": 85,
     "metadata": {},
     "output_type": "execute_result"
    }
   ],
   "source": [
    "%matplotlib inline\n",
    "import pandas as pd\n",
    "import numpy as np\n",
    "import seaborn as sns\n",
    "import matplotlib.pyplot as plt\n",
    "\n",
    "df = pd.read_csv('dataSet/train.csv')\n",
    "\n",
    "df.head()"
   ]
  },
  {
   "cell_type": "code",
   "execution_count": 86,
   "id": "94c2b874-0d9a-4111-846c-d9af53fecf48",
   "metadata": {},
   "outputs": [
    {
     "data": {
      "text/html": [
       "<div>\n",
       "<style scoped>\n",
       "    .dataframe tbody tr th:only-of-type {\n",
       "        vertical-align: middle;\n",
       "    }\n",
       "\n",
       "    .dataframe tbody tr th {\n",
       "        vertical-align: top;\n",
       "    }\n",
       "\n",
       "    .dataframe thead th {\n",
       "        text-align: right;\n",
       "    }\n",
       "</style>\n",
       "<table border=\"1\" class=\"dataframe\">\n",
       "  <thead>\n",
       "    <tr style=\"text-align: right;\">\n",
       "      <th></th>\n",
       "      <th>Survived</th>\n",
       "      <th>Sex</th>\n",
       "      <th>Age</th>\n",
       "    </tr>\n",
       "  </thead>\n",
       "  <tbody>\n",
       "    <tr>\n",
       "      <th>0</th>\n",
       "      <td>0</td>\n",
       "      <td>male</td>\n",
       "      <td>22.0</td>\n",
       "    </tr>\n",
       "    <tr>\n",
       "      <th>1</th>\n",
       "      <td>1</td>\n",
       "      <td>female</td>\n",
       "      <td>38.0</td>\n",
       "    </tr>\n",
       "    <tr>\n",
       "      <th>2</th>\n",
       "      <td>1</td>\n",
       "      <td>female</td>\n",
       "      <td>26.0</td>\n",
       "    </tr>\n",
       "    <tr>\n",
       "      <th>3</th>\n",
       "      <td>1</td>\n",
       "      <td>female</td>\n",
       "      <td>35.0</td>\n",
       "    </tr>\n",
       "    <tr>\n",
       "      <th>4</th>\n",
       "      <td>0</td>\n",
       "      <td>male</td>\n",
       "      <td>35.0</td>\n",
       "    </tr>\n",
       "  </tbody>\n",
       "</table>\n",
       "</div>"
      ],
      "text/plain": [
       "   Survived     Sex   Age\n",
       "0         0    male  22.0\n",
       "1         1  female  38.0\n",
       "2         1  female  26.0\n",
       "3         1  female  35.0\n",
       "4         0    male  35.0"
      ]
     },
     "execution_count": 86,
     "metadata": {},
     "output_type": "execute_result"
    }
   ],
   "source": [
    "df_cleaned = df.drop(['PassengerId','Pclass','Name','SibSp','Parch','Ticket','Fare','Cabin','Embarked'],axis = 1)\n",
    "\n",
    "df_cleaned.head()"
   ]
  },
  {
   "cell_type": "code",
   "execution_count": 87,
   "id": "e350509f-9df6-4d1f-981a-5a7f6521d97d",
   "metadata": {},
   "outputs": [
    {
     "data": {
      "text/plain": [
       "Survived      0\n",
       "Sex           0\n",
       "Age         177\n",
       "dtype: int64"
      ]
     },
     "execution_count": 87,
     "metadata": {},
     "output_type": "execute_result"
    }
   ],
   "source": [
    "df_cleaned.isnull().sum()"
   ]
  },
  {
   "cell_type": "code",
   "execution_count": 88,
   "id": "969c1207-a686-431c-9fec-029545d45b8c",
   "metadata": {},
   "outputs": [
    {
     "data": {
      "text/html": [
       "<div>\n",
       "<style scoped>\n",
       "    .dataframe tbody tr th:only-of-type {\n",
       "        vertical-align: middle;\n",
       "    }\n",
       "\n",
       "    .dataframe tbody tr th {\n",
       "        vertical-align: top;\n",
       "    }\n",
       "\n",
       "    .dataframe thead th {\n",
       "        text-align: right;\n",
       "    }\n",
       "</style>\n",
       "<table border=\"1\" class=\"dataframe\">\n",
       "  <thead>\n",
       "    <tr style=\"text-align: right;\">\n",
       "      <th></th>\n",
       "      <th>Survived</th>\n",
       "      <th>Sex</th>\n",
       "      <th>Age</th>\n",
       "    </tr>\n",
       "  </thead>\n",
       "  <tbody>\n",
       "    <tr>\n",
       "      <th>0</th>\n",
       "      <td>0</td>\n",
       "      <td>male</td>\n",
       "      <td>22.0</td>\n",
       "    </tr>\n",
       "    <tr>\n",
       "      <th>4</th>\n",
       "      <td>0</td>\n",
       "      <td>male</td>\n",
       "      <td>35.0</td>\n",
       "    </tr>\n",
       "    <tr>\n",
       "      <th>5</th>\n",
       "      <td>0</td>\n",
       "      <td>male</td>\n",
       "      <td>NaN</td>\n",
       "    </tr>\n",
       "    <tr>\n",
       "      <th>6</th>\n",
       "      <td>0</td>\n",
       "      <td>male</td>\n",
       "      <td>54.0</td>\n",
       "    </tr>\n",
       "    <tr>\n",
       "      <th>7</th>\n",
       "      <td>0</td>\n",
       "      <td>male</td>\n",
       "      <td>2.0</td>\n",
       "    </tr>\n",
       "    <tr>\n",
       "      <th>...</th>\n",
       "      <td>...</td>\n",
       "      <td>...</td>\n",
       "      <td>...</td>\n",
       "    </tr>\n",
       "    <tr>\n",
       "      <th>884</th>\n",
       "      <td>0</td>\n",
       "      <td>male</td>\n",
       "      <td>25.0</td>\n",
       "    </tr>\n",
       "    <tr>\n",
       "      <th>885</th>\n",
       "      <td>0</td>\n",
       "      <td>female</td>\n",
       "      <td>39.0</td>\n",
       "    </tr>\n",
       "    <tr>\n",
       "      <th>886</th>\n",
       "      <td>0</td>\n",
       "      <td>male</td>\n",
       "      <td>27.0</td>\n",
       "    </tr>\n",
       "    <tr>\n",
       "      <th>888</th>\n",
       "      <td>0</td>\n",
       "      <td>female</td>\n",
       "      <td>NaN</td>\n",
       "    </tr>\n",
       "    <tr>\n",
       "      <th>890</th>\n",
       "      <td>0</td>\n",
       "      <td>male</td>\n",
       "      <td>32.0</td>\n",
       "    </tr>\n",
       "  </tbody>\n",
       "</table>\n",
       "<p>549 rows × 3 columns</p>\n",
       "</div>"
      ],
      "text/plain": [
       "     Survived     Sex   Age\n",
       "0           0    male  22.0\n",
       "4           0    male  35.0\n",
       "5           0    male   NaN\n",
       "6           0    male  54.0\n",
       "7           0    male   2.0\n",
       "..        ...     ...   ...\n",
       "884         0    male  25.0\n",
       "885         0  female  39.0\n",
       "886         0    male  27.0\n",
       "888         0  female   NaN\n",
       "890         0    male  32.0\n",
       "\n",
       "[549 rows x 3 columns]"
      ]
     },
     "execution_count": 88,
     "metadata": {},
     "output_type": "execute_result"
    }
   ],
   "source": [
    "totalCasualties = df_cleaned.loc[(df_cleaned['Survived']==0)]\n",
    "totalCasualties\n",
    "\n",
    "# Here we have the dataframe which contains only the Casualty from the shipwreck."
   ]
  },
  {
   "cell_type": "code",
   "execution_count": 89,
   "id": "aa3c25c3-f5f7-4afe-857b-5aa534378ead",
   "metadata": {},
   "outputs": [
    {
     "data": {
      "text/plain": [
       "Survived      0\n",
       "Sex           0\n",
       "Age         125\n",
       "dtype: int64"
      ]
     },
     "execution_count": 89,
     "metadata": {},
     "output_type": "execute_result"
    }
   ],
   "source": [
    "totalCasualties.isnull().sum()"
   ]
  },
  {
   "cell_type": "code",
   "execution_count": 90,
   "id": "972aa8d5-33d1-4213-ad5b-641eb63029b2",
   "metadata": {},
   "outputs": [
    {
     "data": {
      "text/plain": [
       "Text(0.5, 1.0, 'Casualties among men and women')"
      ]
     },
     "execution_count": 90,
     "metadata": {},
     "output_type": "execute_result"
    },
    {
     "data": {
      "image/png": "[encoded data removed]",
      "text/plain": [
       "<Figure size 640x480 with 1 Axes>"
      ]
     },
     "metadata": {},
     "output_type": "display_data"
    }
   ],
   "source": [
    "casualtiesGender = totalCasualties['Sex']\n",
    "sns.histplot(data = casualtiesGender , bins = 5, stat ='count')\n",
    "plt.title('Casualties among men and women')"
   ]
  },
  {
   "cell_type": "code",
   "execution_count": 91,
   "id": "4e6effdd-b987-4025-9924-51770995f5ff",
   "metadata": {},
   "outputs": [],
   "source": [
    "maleCasualties = totalCasualties.loc[(totalCasualties['Sex']=='male')]\n",
    "femaleCasualties = totalCasualties.loc[(totalCasualties['Sex']=='female')]"
   ]
  },
  {
   "cell_type": "code",
   "execution_count": 95,
   "id": "f398012d-3e24-40f5-a18d-e18eb10d7658",
   "metadata": {},
   "outputs": [],
   "source": [
    "# FILLING IN MISSING VALUES FOR AGE AMONG THE MALE CASUALTIES\n"
   ]
  },
  {
   "cell_type": "code",
   "execution_count": 96,
   "id": "e83f9503-8da1-4165-9808-d96b8d7a4e0c",
   "metadata": {},
   "outputs": [
    {
     "data": {
      "text/plain": [
       "Survived      0\n",
       "Sex           0\n",
       "Age         108\n",
       "dtype: int64"
      ]
     },
     "execution_count": 96,
     "metadata": {},
     "output_type": "execute_result"
    }
   ],
   "source": [
    "maleCasualties.isnull().sum()\n",
    "# This gives the number of missing ages in among the Male Casualties"
   ]
  },
  {
   "cell_type": "code",
   "execution_count": 97,
   "id": "a83364dd-3080-4396-a691-748d19f3459d",
   "metadata": {},
   "outputs": [
    {
     "data": {
      "text/plain": [
       "Text(0.5, 1.0, 'Distribution of age among the male casualties')"
      ]
     },
     "execution_count": 97,
     "metadata": {},
     "output_type": "execute_result"
    },
    {
     "data": {
      "image/png": "[encoded data removed]",
      "text/plain": [
       "<Figure size 640x480 with 1 Axes>"
      ]
     },
     "metadata": {},
     "output_type": "display_data"
    }
   ],
   "source": [
    "# Here we will  map out the graphs of the age of casualties among men\n",
    "maleCasualtiesAge = maleCasualties['Age']\n",
    "\n",
    "sns.histplot(maleCasualtiesAge, bins = 20 ,stat = 'count')\n",
    "# sns.displot(maleCasualtiesAge, kind = 'kde')\n",
    "# sns.boxplot(x = maleCasualtiesAge)\n",
    "plt.title('Distribution of age among the male casualties')"
   ]
  },
  {
   "cell_type": "code",
   "execution_count": 99,
   "id": "3396d668-9e21-4ae4-b4bf-1f9bca63cddd",
   "metadata": {},
   "outputs": [
    {
     "name": "stdout",
     "output_type": "stream",
     "text": [
      "31\n",
      "\n",
      "\n",
      "29\n",
      "\n",
      "\n",
      "0    19.0\n",
      "1    21.0\n",
      "2    28.0\n",
      "Name: Age, dtype: float64\n",
      "\n",
      "\n",
      "There are three modes, and they all occur 16 times each\n",
      "(16, 3)\n",
      "(16, 3)\n",
      "(16, 3)\n",
      "Average Mode\n",
      "22.666666666666668\n"
     ]
    }
   ],
   "source": [
    "mode1 = maleCasualties.loc[(maleCasualties['Age'] == 19)]\n",
    "mode2 = maleCasualties.loc[(maleCasualties['Age'] == 21)]\n",
    "mode3 = maleCasualties.loc[(maleCasualties['Age'] == 28)]\n",
    "\n",
    "mean = int(maleCasualties['Age'].mean())\n",
    "print(mean)\n",
    "print('\\n')\n",
    "median = int(maleCasualties['Age'].median())\n",
    "print(median)\n",
    "print('\\n')\n",
    "mode = maleCasualties['Age'].mode()\n",
    "print(mode)\n",
    "print('\\n')\n",
    "\n",
    "print('There are three modes, and they all occur 16 times each')\n",
    "print(mode1.shape)\n",
    "print(mode2.shape)\n",
    "print(mode3.shape)\n",
    "\n",
    "print('Average Mode')\n",
    "print(((19+21+28)/3))\n"
   ]
  },
  {
   "cell_type": "code",
   "execution_count": 113,
   "id": "0064471e-568f-4bbf-a9bf-07950ee36272",
   "metadata": {},
   "outputs": [
    {
     "data": {
      "text/plain": [
       "count    360.000000\n",
       "mean      31.618056\n",
       "std       14.056019\n",
       "min        1.000000\n",
       "25%       21.750000\n",
       "50%       29.000000\n",
       "75%       39.250000\n",
       "max       74.000000\n",
       "Name: Age, dtype: float64"
      ]
     },
     "execution_count": 113,
     "metadata": {},
     "output_type": "execute_result"
    }
   ],
   "source": [
    "maleCasualtiesAge.describe()\n",
    "# Count 360 because it doesn't count rows with missing values"
   ]
  },
  {
   "cell_type": "code",
   "execution_count": 70,
   "id": "70e7157b-7f97-4ffb-98a7-661eea59925d",
   "metadata": {},
   "outputs": [],
   "source": [
    "# There are several observations from the graph;\n",
    "# There seems to be a slight skew to the right (Mean>Median>Mode)\n",
    "# This happens to be a multi-modal Dataset\n",
    "# There are outliers in the higher end of the distribution, which implies that the Mean can't be used to impute missing values. And so is the median which is two units away from the Mean.\n",
    "# The average of the three Modes which is around half a std away from the Mean and Median may be the best candidate for imputing values."
   ]
  },
  {
   "cell_type": "code",
   "execution_count": 115,
   "id": "f096f248-e5f8-4612-9d41-5bf6f4d923d2",
   "metadata": {},
   "outputs": [
    {
     "data": {
      "text/html": [
       "<div>\n",
       "<style scoped>\n",
       "    .dataframe tbody tr th:only-of-type {\n",
       "        vertical-align: middle;\n",
       "    }\n",
       "\n",
       "    .dataframe tbody tr th {\n",
       "        vertical-align: top;\n",
       "    }\n",
       "\n",
       "    .dataframe thead th {\n",
       "        text-align: right;\n",
       "    }\n",
       "</style>\n",
       "<table border=\"1\" class=\"dataframe\">\n",
       "  <thead>\n",
       "    <tr style=\"text-align: right;\">\n",
       "      <th></th>\n",
       "      <th>Survived</th>\n",
       "      <th>Sex</th>\n",
       "      <th>Age</th>\n",
       "    </tr>\n",
       "  </thead>\n",
       "  <tbody>\n",
       "    <tr>\n",
       "      <th>0</th>\n",
       "      <td>0</td>\n",
       "      <td>male</td>\n",
       "      <td>22.0</td>\n",
       "    </tr>\n",
       "    <tr>\n",
       "      <th>4</th>\n",
       "      <td>0</td>\n",
       "      <td>male</td>\n",
       "      <td>35.0</td>\n",
       "    </tr>\n",
       "    <tr>\n",
       "      <th>5</th>\n",
       "      <td>0</td>\n",
       "      <td>male</td>\n",
       "      <td>23.0</td>\n",
       "    </tr>\n",
       "    <tr>\n",
       "      <th>6</th>\n",
       "      <td>0</td>\n",
       "      <td>male</td>\n",
       "      <td>54.0</td>\n",
       "    </tr>\n",
       "    <tr>\n",
       "      <th>7</th>\n",
       "      <td>0</td>\n",
       "      <td>male</td>\n",
       "      <td>2.0</td>\n",
       "    </tr>\n",
       "    <tr>\n",
       "      <th>...</th>\n",
       "      <td>...</td>\n",
       "      <td>...</td>\n",
       "      <td>...</td>\n",
       "    </tr>\n",
       "    <tr>\n",
       "      <th>881</th>\n",
       "      <td>0</td>\n",
       "      <td>male</td>\n",
       "      <td>33.0</td>\n",
       "    </tr>\n",
       "    <tr>\n",
       "      <th>883</th>\n",
       "      <td>0</td>\n",
       "      <td>male</td>\n",
       "      <td>28.0</td>\n",
       "    </tr>\n",
       "    <tr>\n",
       "      <th>884</th>\n",
       "      <td>0</td>\n",
       "      <td>male</td>\n",
       "      <td>25.0</td>\n",
       "    </tr>\n",
       "    <tr>\n",
       "      <th>886</th>\n",
       "      <td>0</td>\n",
       "      <td>male</td>\n",
       "      <td>27.0</td>\n",
       "    </tr>\n",
       "    <tr>\n",
       "      <th>890</th>\n",
       "      <td>0</td>\n",
       "      <td>male</td>\n",
       "      <td>32.0</td>\n",
       "    </tr>\n",
       "  </tbody>\n",
       "</table>\n",
       "<p>468 rows × 3 columns</p>\n",
       "</div>"
      ],
      "text/plain": [
       "     Survived   Sex   Age\n",
       "0           0  male  22.0\n",
       "4           0  male  35.0\n",
       "5           0  male  23.0\n",
       "6           0  male  54.0\n",
       "7           0  male   2.0\n",
       "..        ...   ...   ...\n",
       "881         0  male  33.0\n",
       "883         0  male  28.0\n",
       "884         0  male  25.0\n",
       "886         0  male  27.0\n",
       "890         0  male  32.0\n",
       "\n",
       "[468 rows x 3 columns]"
      ]
     },
     "execution_count": 115,
     "metadata": {},
     "output_type": "execute_result"
    }
   ],
   "source": [
    "maleCasualties_Age_Cleaned = maleCasualties.fillna(23)\n",
    "\n",
    "maleCasualties_Age_Cleaned.describe()\n",
    "# coutn increased to 468 because it fills in missing values and counts it.\n",
    "\n",
    "maleCasualties_Age_Cleaned"
   ]
  },
  {
   "cell_type": "code",
   "execution_count": 154,
   "id": "9cd5b190-7d6f-4381-92d3-0403ea18b97c",
   "metadata": {},
   "outputs": [
    {
     "data": {
      "text/plain": [
       "Text(0.5, 1.0, 'Age distribution among male victims with age cleaned')"
      ]
     },
     "execution_count": 154,
     "metadata": {},
     "output_type": "execute_result"
    },
    {
     "data": {
      "image/png": "[encoded data removed]",
      "text/plain": [
       "<Figure size 640x480 with 1 Axes>"
      ]
     },
     "metadata": {},
     "output_type": "display_data"
    }
   ],
   "source": [
    "male_Victims_Age_Cleaned = maleCasualties_Age_Cleaned['Age']\n",
    "\n",
    "# sns.histplot(data = male_Victims_Age_Cleaned, bins = 20, stat = 'count')\n",
    "# sns.displot(male_Victims_Age_Cleaned, kind = 'kde')\n",
    "sns.boxplot(x = male_Victims_Age_Cleaned)\n",
    "\n",
    "plt.title('Age distribution among male victims with age cleaned')"
   ]
  },
  {
   "cell_type": "code",
   "execution_count": 120,
   "id": "e18a88c6-a692-41ff-8634-9e9d82e7ffae",
   "metadata": {},
   "outputs": [
    {
     "data": {
      "text/plain": [
       "Survived     0\n",
       "Sex          0\n",
       "Age         17\n",
       "dtype: int64"
      ]
     },
     "execution_count": 120,
     "metadata": {},
     "output_type": "execute_result"
    }
   ],
   "source": [
    "femaleCasualties.isnull().sum()"
   ]
  },
  {
   "cell_type": "code",
   "execution_count": 128,
   "id": "e54787aa-214e-4e45-b5c0-aa0ba79e529a",
   "metadata": {},
   "outputs": [
    {
     "data": {
      "text/plain": [
       "Text(0.5, 1.0, 'Age Distribution among the female Casualties')"
      ]
     },
     "execution_count": 128,
     "metadata": {},
     "output_type": "execute_result"
    },
    {
     "data": {
      "image/png": "[encoded data removed]",
      "text/plain": [
       "<Figure size 640x480 with 1 Axes>"
      ]
     },
     "metadata": {},
     "output_type": "display_data"
    }
   ],
   "source": [
    "femaleCasualtiesAge = femaleCasualties['Age']\n",
    "\n",
    "sns.histplot(femaleCasualtiesAge, bins = 25, stat = 'count')\n",
    "# sns.displot(femaleCasualtiesAge, kind ='kde')\n",
    "# sns.boxplot(x = femaleCasualtiesAge)\n",
    "plt.title('Age Distribution among the female Casualties')"
   ]
  },
  {
   "cell_type": "code",
   "execution_count": 122,
   "id": "85c21485-140d-464f-9882-5dffe63ee6f5",
   "metadata": {},
   "outputs": [
    {
     "name": "stdout",
     "output_type": "stream",
     "text": [
      "25.046875\n",
      "24.5\n",
      "0    18.0\n",
      "Name: Age, dtype: float64\n"
     ]
    }
   ],
   "source": [
    "femaleAgeMean = femaleCasualtiesAge.mean()\n",
    "femaleAgeMedian = femaleCasualtiesAge.median()\n",
    "femaleAgeMode = femaleCasualtiesAge.mode()\n",
    "\n",
    "print(femaleAgeMean)\n",
    "print(femaleAgeMedian)\n",
    "print(femaleAgeMode)"
   ]
  },
  {
   "cell_type": "code",
   "execution_count": 129,
   "id": "41992d0d-160e-48ab-983c-c253fe843545",
   "metadata": {},
   "outputs": [
    {
     "data": {
      "text/plain": [
       "count    64.000000\n",
       "mean     25.046875\n",
       "std      13.618591\n",
       "min       2.000000\n",
       "25%      16.750000\n",
       "50%      24.500000\n",
       "75%      33.250000\n",
       "max      57.000000\n",
       "Name: Age, dtype: float64"
      ]
     },
     "execution_count": 129,
     "metadata": {},
     "output_type": "execute_result"
    }
   ],
   "source": [
    "femaleCasualtiesAge.describe()"
   ]
  },
  {
   "cell_type": "code",
   "execution_count": 134,
   "id": "5be1cc8e-7a8a-45d3-be9d-740116ea9d64",
   "metadata": {},
   "outputs": [
    {
     "data": {
      "text/plain": [
       "17"
      ]
     },
     "execution_count": 134,
     "metadata": {},
     "output_type": "execute_result"
    }
   ],
   "source": [
    "femaleCasualtiesAge.isnull().sum()\n",
    "# There are 17 missing values"
   ]
  },
  {
   "cell_type": "code",
   "execution_count": null,
   "id": "20b3e96c-9eb6-4301-abfe-e663776a01f5",
   "metadata": {},
   "outputs": [],
   "source": [
    "# From the Graphs above there are several observations worht noting\n",
    "# The distribution follows a normal curve, The mean and the median are within half a unit of each other. T\n",
    "# Mode is within half a STD from Mean and Median. Which implies a negligible right-skew.\n",
    "# Considering all the above factors, it seems reasonable to impute missing values with the Mean.\n"
   ]
  },
  {
   "cell_type": "code",
   "execution_count": 148,
   "id": "56e4d217-3fc3-44f4-bdef-978e0dc196c9",
   "metadata": {},
   "outputs": [
    {
     "data": {
      "text/html": [
       "<div>\n",
       "<style scoped>\n",
       "    .dataframe tbody tr th:only-of-type {\n",
       "        vertical-align: middle;\n",
       "    }\n",
       "\n",
       "    .dataframe tbody tr th {\n",
       "        vertical-align: top;\n",
       "    }\n",
       "\n",
       "    .dataframe thead th {\n",
       "        text-align: right;\n",
       "    }\n",
       "</style>\n",
       "<table border=\"1\" class=\"dataframe\">\n",
       "  <thead>\n",
       "    <tr style=\"text-align: right;\">\n",
       "      <th></th>\n",
       "      <th>Survived</th>\n",
       "      <th>Sex</th>\n",
       "      <th>Age</th>\n",
       "    </tr>\n",
       "  </thead>\n",
       "  <tbody>\n",
       "    <tr>\n",
       "      <th>14</th>\n",
       "      <td>0</td>\n",
       "      <td>female</td>\n",
       "      <td>14.0</td>\n",
       "    </tr>\n",
       "    <tr>\n",
       "      <th>18</th>\n",
       "      <td>0</td>\n",
       "      <td>female</td>\n",
       "      <td>31.0</td>\n",
       "    </tr>\n",
       "    <tr>\n",
       "      <th>24</th>\n",
       "      <td>0</td>\n",
       "      <td>female</td>\n",
       "      <td>8.0</td>\n",
       "    </tr>\n",
       "    <tr>\n",
       "      <th>38</th>\n",
       "      <td>0</td>\n",
       "      <td>female</td>\n",
       "      <td>18.0</td>\n",
       "    </tr>\n",
       "    <tr>\n",
       "      <th>40</th>\n",
       "      <td>0</td>\n",
       "      <td>female</td>\n",
       "      <td>40.0</td>\n",
       "    </tr>\n",
       "  </tbody>\n",
       "</table>\n",
       "</div>"
      ],
      "text/plain": [
       "    Survived     Sex   Age\n",
       "14         0  female  14.0\n",
       "18         0  female  31.0\n",
       "24         0  female   8.0\n",
       "38         0  female  18.0\n",
       "40         0  female  40.0"
      ]
     },
     "execution_count": 148,
     "metadata": {},
     "output_type": "execute_result"
    }
   ],
   "source": [
    "femaleCasualties_Age_Cleaned = femaleCasualties.fillna(femaleCasualties['Age'].mean())\n",
    "femaleCasualties_Age_Cleaned.head()\n"
   ]
  },
  {
   "cell_type": "code",
   "execution_count": 153,
   "id": "423a85ba-2c34-407b-900f-5eaf67efb212",
   "metadata": {},
   "outputs": [
    {
     "data": {
      "text/plain": [
       "Text(0.5, 1.0, 'Age Distribution among the female victims')"
      ]
     },
     "execution_count": 153,
     "metadata": {},
     "output_type": "execute_result"
    },
    {
     "data": {
      "image/png": "[encoded data removed]",
      "text/plain": [
       "<Figure size 640x480 with 1 Axes>"
      ]
     },
     "metadata": {},
     "output_type": "display_data"
    }
   ],
   "source": [
    "# sns.histplot(data = femaleCasualties_Age_Cleaned['Age'], bins =20, stat = 'count')\n",
    "# sns.displot(femaleCasualties_Age_Cleaned['Age'], kind ='kde')\n",
    "sns.boxplot(x=femaleCasualties_Age_Cleaned['Age'])\n",
    "plt.title('Age Distribution among the female victims')"
   ]
  }
 ],
 "metadata": {
  "kernelspec": {
   "display_name": "Python 3 (ipykernel)",
   "language": "python",
   "name": "python3"
  },
  "language_info": {
   "codemirror_mode": {
    "name": "ipython",
    "version": 3
   },
   "file_extension": ".py",
   "mimetype": "text/x-python",
   "name": "python",
   "nbconvert_exporter": "python",
   "pygments_lexer": "ipython3",
   "version": "3.10.6"
  }
 },
 "nbformat": 4,
 "nbformat_minor": 5
}
